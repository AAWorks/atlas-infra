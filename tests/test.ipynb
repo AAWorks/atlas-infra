{
 "cells": [
  {
   "cell_type": "code",
   "execution_count": 10,
   "id": "c796d6d2",
   "metadata": {},
   "outputs": [
    {
     "data": {
      "text/plain": [
       "True"
      ]
     },
     "execution_count": 10,
     "metadata": {},
     "output_type": "execute_result"
    }
   ],
   "source": [
    "import requests\n",
    "import os\n",
    "import json\n",
    "\n",
    "from dotenv import load_dotenv\n",
    "\n",
    "load_dotenv()"
   ]
  },
  {
   "cell_type": "code",
   "execution_count": 11,
   "id": "82bf2c36",
   "metadata": {},
   "outputs": [
    {
     "name": "stdout",
     "output_type": "stream",
     "text": [
      "Logged in as test@example.com\n"
     ]
    }
   ],
   "source": [
    "\"\"\"\n",
    "Authentication Script\n",
    "\"\"\"\n",
    "SUPABASE_URL = os.getenv(\"SUPABASE_URL\")\n",
    "SUPABASE_KEY = os.getenv(\"SUPABASE_SERVICE_ROLE_KEY\")  # or anon key if email/password login\n",
    "BASE_URL = \"http://127.0.0.1:8000/api/v1\"\n",
    "\n",
    "EMAIL = \"test@example.com\"\n",
    "PASSWORD = \"password123\"\n",
    "\n",
    "# --------------------\n",
    "# 1. Get Supabase Access Token\n",
    "# --------------------\n",
    "auth_res = requests.post(\n",
    "    f\"{SUPABASE_URL}/auth/v1/token?grant_type=password\",\n",
    "    headers={\n",
    "        \"apikey\": SUPABASE_KEY,\n",
    "        \"Content-Type\": \"application/json\"\n",
    "    },\n",
    "    json={\n",
    "        \"email\": EMAIL,\n",
    "        \"password\": PASSWORD\n",
    "    }\n",
    ")\n",
    "\n",
    "if auth_res.status_code != 200:\n",
    "    print(\"❌ Failed to log in:\", auth_res.status_code, auth_res.text)\n",
    "    exit(1)\n",
    "\n",
    "access_token = auth_res.json()[\"access_token\"]\n",
    "print(f\"Logged in as {EMAIL}\")"
   ]
  },
  {
   "cell_type": "code",
   "execution_count": 14,
   "id": "4ec198f2",
   "metadata": {},
   "outputs": [
    {
     "name": "stderr",
     "output_type": "stream",
     "text": [
      "<>:8: SyntaxWarning: invalid escape sequence '\\R'\n",
      "<>:8: SyntaxWarning: invalid escape sequence '\\R'\n",
      "C:\\Users\\Andres Alonso\\AppData\\Local\\Temp\\ipykernel_25120\\84286418.py:8: SyntaxWarning: invalid escape sequence '\\R'\n",
      "  print(\"\\Response Status:\", res.status_code)\n"
     ]
    },
    {
     "name": "stdout",
     "output_type": "stream",
     "text": [
      "\\Response Status: 200\n",
      "Response Body:\n",
      " [\n",
      "    {\n",
      "        \"id\": \"0337a104-51b5-4106-80d9-ffabd3f643d1\",\n",
      "        \"owner_user_id\": \"034894ce-bbf6-4d40-b7f2-3f142d71b4f2\",\n",
      "        \"title\": \"Dubai Trip\",\n",
      "        \"description\": \"Dubai of course\",\n",
      "        \"start_date\": \"2025-09-23\",\n",
      "        \"end_date\": \"2025-10-04\",\n",
      "        \"home_currency\": \"USD\",\n",
      "        \"time_zone\": \"EST\",\n",
      "        \"notes\": \"dubai of course\",\n",
      "        \"created_at\": \"2025-09-13T19:28:02.007516+00:00\",\n",
      "        \"updated_at\": \"2025-09-13T19:28:02.007516+00:00\"\n",
      "    }\n",
      "]\n"
     ]
    }
   ],
   "source": [
    "res = requests.get(\n",
    "    f\"{BASE_URL}/trips\",\n",
    "    headers={\n",
    "        \"Authorization\": f\"Bearer {access_token}\",\n",
    "        \"Content-Type\": \"application/json\"\n",
    "    }\n",
    ")\n",
    "print(\"\\Response Status:\", res.status_code)\n",
    "print(\"Response Body:\\n\", json.dumps(res.json(), indent=4))"
   ]
  }
 ],
 "metadata": {
  "kernelspec": {
   "display_name": "Python 3",
   "language": "python",
   "name": "python3"
  },
  "language_info": {
   "codemirror_mode": {
    "name": "ipython",
    "version": 3
   },
   "file_extension": ".py",
   "mimetype": "text/x-python",
   "name": "python",
   "nbconvert_exporter": "python",
   "pygments_lexer": "ipython3",
   "version": "3.13.0"
  }
 },
 "nbformat": 4,
 "nbformat_minor": 5
}
