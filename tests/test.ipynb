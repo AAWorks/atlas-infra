{
 "cells": [
  {
   "cell_type": "code",
   "execution_count": 2,
   "id": "bf88f920",
   "metadata": {},
   "outputs": [
    {
     "name": "stdout",
     "output_type": "stream",
     "text": [
      "Defaulting to user installation because normal site-packages is not writeable\n",
      "Collecting requests\n",
      "  Downloading requests-2.32.5-py3-none-any.whl (64 kB)\n",
      "\u001b[K     |████████████████████████████████| 64 kB 4.6 MB/s eta 0:00:011\n",
      "\u001b[?25hCollecting urllib3<3,>=1.21.1\n",
      "  Downloading urllib3-2.5.0-py3-none-any.whl (129 kB)\n",
      "\u001b[K     |████████████████████████████████| 129 kB 6.7 MB/s eta 0:00:01\n",
      "\u001b[?25hCollecting certifi>=2017.4.17\n",
      "  Using cached certifi-2025.8.3-py3-none-any.whl (161 kB)\n",
      "Collecting idna<4,>=2.5\n",
      "  Using cached idna-3.10-py3-none-any.whl (70 kB)\n",
      "Collecting charset_normalizer<4,>=2\n",
      "  Downloading charset_normalizer-3.4.3-cp39-cp39-macosx_10_9_universal2.whl (207 kB)\n",
      "\u001b[K     |████████████████████████████████| 207 kB 28.5 MB/s eta 0:00:01\n",
      "\u001b[?25hInstalling collected packages: urllib3, idna, charset-normalizer, certifi, requests\n",
      "Successfully installed certifi-2025.8.3 charset-normalizer-3.4.3 idna-3.10 requests-2.32.5 urllib3-2.5.0\n",
      "\u001b[33mWARNING: You are using pip version 21.2.4; however, version 25.2 is available.\n",
      "You should consider upgrading via the '/Library/Developer/CommandLineTools/usr/bin/python3 -m pip install --upgrade pip' command.\u001b[0m\n",
      "Note: you may need to restart the kernel to use updated packages.\n",
      "Defaulting to user installation because normal site-packages is not writeable\n",
      "Collecting python-dotenv\n",
      "  Using cached python_dotenv-1.1.1-py3-none-any.whl (20 kB)\n",
      "Installing collected packages: python-dotenv\n",
      "Successfully installed python-dotenv-1.1.1\n",
      "\u001b[33mWARNING: You are using pip version 21.2.4; however, version 25.2 is available.\n",
      "You should consider upgrading via the '/Library/Developer/CommandLineTools/usr/bin/python3 -m pip install --upgrade pip' command.\u001b[0m\n",
      "Note: you may need to restart the kernel to use updated packages.\n"
     ]
    }
   ],
   "source": [
    "%pip install requests\n",
    "%pip install python-dotenv"
   ]
  },
  {
   "cell_type": "code",
   "execution_count": 8,
   "id": "c796d6d2",
   "metadata": {},
   "outputs": [
    {
     "data": {
      "text/plain": [
       "True"
      ]
     },
     "execution_count": 8,
     "metadata": {},
     "output_type": "execute_result"
    }
   ],
   "source": [
    "import requests\n",
    "import os\n",
    "import json\n",
    "\n",
    "from dotenv import load_dotenv\n",
    "\n",
    "load_dotenv()"
   ]
  },
  {
   "cell_type": "code",
   "execution_count": 24,
   "id": "82bf2c36",
   "metadata": {},
   "outputs": [
    {
     "name": "stdout",
     "output_type": "stream",
     "text": [
      "Logged in as test@example.com\n"
     ]
    }
   ],
   "source": [
    "\"\"\"\n",
    "Authentication Script\n",
    "\"\"\"\n",
    "SUPABASE_URL = os.getenv(\"SUPABASE_URL\")\n",
    "SUPABASE_KEY = os.getenv(\"SUPABASE_SERVICE_ROLE_KEY\")  # or anon key if email/password login\n",
    "BASE_URL = \"http://127.0.0.1:8000/api/v1\"\n",
    "\n",
    "EMAIL = \"test@example.com\"\n",
    "PASSWORD = \"password123\"\n",
    "\n",
    "# --------------------\n",
    "# 1. Get Supabase Access Token\n",
    "# --------------------\n",
    "auth_res = requests.post(\n",
    "    f\"{SUPABASE_URL}/auth/v1/token?grant_type=password\",\n",
    "    headers={\n",
    "        \"apikey\": SUPABASE_KEY,\n",
    "        \"Content-Type\": \"application/json\"\n",
    "    },\n",
    "    json={\n",
    "        \"email\": EMAIL,\n",
    "        \"password\": PASSWORD\n",
    "    }\n",
    ")\n",
    "\n",
    "if auth_res.status_code != 200:\n",
    "    print(\"❌ Failed to log in:\", auth_res.status_code, auth_res.text)\n",
    "    exit(1)\n",
    "\n",
    "access_token = auth_res.json()[\"access_token\"]\n",
    "print(f\"Logged in as {EMAIL}\")"
   ]
  },
  {
   "cell_type": "code",
   "execution_count": null,
   "id": "4ec198f2",
   "metadata": {},
   "outputs": [
    {
     "name": "stdout",
     "output_type": "stream",
     "text": [
      "\\Response Status: 200\n",
      "Response Body:\n",
      " [\n",
      "    {\n",
      "        \"id\": \"0337a104-51b5-4106-80d9-ffabd3f643d1\",\n",
      "        \"owner_user_id\": \"034894ce-bbf6-4d40-b7f2-3f142d71b4f2\",\n",
      "        \"title\": \"Dubai Trip\",\n",
      "        \"description\": \"Dubai of course\",\n",
      "        \"start_date\": \"2025-09-23\",\n",
      "        \"end_date\": \"2025-10-04\",\n",
      "        \"home_currency\": \"USD\",\n",
      "        \"time_zone\": \"EST\",\n",
      "        \"notes\": \"dubai of course\",\n",
      "        \"created_at\": \"2025-09-13T19:28:02.007516+00:00\",\n",
      "        \"updated_at\": \"2025-09-13T19:28:02.007516+00:00\"\n",
      "    }\n",
      "]\n"
     ]
    }
   ],
   "source": [
    "res = requests.get(\n",
    "    f\"{BASE_URL}/trips\",\n",
    "    headers={\n",
    "        \"Authorization\": f\"Bearer {access_token}\",\n",
    "        \"Content-Type\": \"application/json\"\n",
    "    }\n",
    ")\n",
    "print(\"Response Status:\", res.status_code)\n",
    "print(\"Response Body:\\n\", json.dumps(res.json(), indent=4))"
   ]
  },
  {
   "cell_type": "code",
   "execution_count": null,
   "id": "d9dad421",
   "metadata": {},
   "outputs": [
    {
     "name": "stdout",
     "output_type": "stream",
     "text": [
      "\\Response Status: 200\n",
      "Response Body:\n",
      " [\n",
      "    {\n",
      "        \"id\": \"be57802a-1ffe-4e01-987a-9c012acab6ce\",\n",
      "        \"owner_user_id\": \"034894ce-bbf6-4d40-b7f2-3f142d71b4f2\",\n",
      "        \"title\": \"Summer Vacation\",\n",
      "        \"description\": \"A fun summer trip to the beach.\",\n",
      "        \"start_date\": \"2025-06-01\",\n",
      "        \"end_date\": \"2025-06-14\",\n",
      "        \"home_currency\": \"USD\",\n",
      "        \"time_zone\": \"GMT\",\n",
      "        \"notes\": \"Pack sunscreen and beach towels.\",\n",
      "        \"created_at\": \"2025-09-14T13:05:38.399222+00:00\",\n",
      "        \"updated_at\": \"2025-09-14T13:05:38.399222+00:00\"\n",
      "    }\n",
      "]\n"
     ]
    }
   ],
   "source": [
    "trip_data = {\n",
    "    \"title\": \"Summer Vacation\",\n",
    "    \"description\": \"A fun summer trip to the beach.\",\n",
    "    \"start_date\": \"2025-06-01\", \n",
    "    \"end_date\": \"2025-06-14\",\n",
    "    \"home_currency\": \"USD\",\n",
    "    \"time_zone\": \"GMT\",\n",
    "    \"notes\": \"Pack sunscreen and beach towels.\"\n",
    "}\n",
    "\n",
    "res = requests.post(\n",
    "    f\"{BASE_URL}/trips\",\n",
    "    headers={\n",
    "        \"Authorization\": f\"Bearer {access_token}\",\n",
    "        \"Content-Type\": \"application/json\"\n",
    "    },\n",
    "    data=json.dumps(trip_data)\n",
    ")\n",
    "print(\"Response Status:\", res.status_code)\n",
    "print(\"Response Body:\\n\", json.dumps(res.json(), indent=4))"
   ]
  },
  {
   "cell_type": "code",
   "execution_count": 29,
   "id": "1cb5c4a1",
   "metadata": {},
   "outputs": [
    {
     "name": "stdout",
     "output_type": "stream",
     "text": [
      "Response Status: 200\n",
      "Response Body:\n",
      " [\n",
      "    {\n",
      "        \"id\": \"0337a104-51b5-4106-80d9-ffabd3f643d1\",\n",
      "        \"owner_user_id\": \"034894ce-bbf6-4d40-b7f2-3f142d71b4f2\",\n",
      "        \"title\": \"Dubai Trip\",\n",
      "        \"description\": \"Dubai of course\",\n",
      "        \"start_date\": \"2025-09-23\",\n",
      "        \"end_date\": \"2025-10-04\",\n",
      "        \"home_currency\": \"USD\",\n",
      "        \"time_zone\": \"EST\",\n",
      "        \"notes\": \"dubai of course\",\n",
      "        \"created_at\": \"2025-09-13T19:28:02.007516+00:00\",\n",
      "        \"updated_at\": \"2025-09-13T19:28:02.007516+00:00\"\n",
      "    }\n",
      "]\n"
     ]
    }
   ],
   "source": [
    "trip_id = \"0337a104-51b5-4106-80d9-ffabd3f643d1\"\n",
    "\n",
    "res = requests.get(\n",
    "    f\"{BASE_URL}/trips/{trip_id}\",\n",
    "    headers={\n",
    "        \"Authorization\": f\"Bearer {access_token}\",\n",
    "        \"Content-Type\": \"application/json\"\n",
    "    }\n",
    ")\n",
    "print(\"Response Status:\", res.status_code)\n",
    "print(\"Response Body:\\n\", json.dumps(res.json(), indent=4))"
   ]
  },
  {
   "cell_type": "code",
   "execution_count": 33,
   "id": "faabd705",
   "metadata": {},
   "outputs": [
    {
     "name": "stdout",
     "output_type": "stream",
     "text": [
      "Response Status: 200\n",
      "Response Body:\n",
      " [\n",
      "    {\n",
      "        \"id\": \"0337a104-51b5-4106-80d9-ffabd3f643d1\",\n",
      "        \"owner_user_id\": \"034894ce-bbf6-4d40-b7f2-3f142d71b4f2\",\n",
      "        \"title\": \"Updated Summer Vacation\",\n",
      "        \"description\": \"An updated description for the summer trip.\",\n",
      "        \"start_date\": \"2025-09-23\",\n",
      "        \"end_date\": \"2025-10-04\",\n",
      "        \"home_currency\": \"USD\",\n",
      "        \"time_zone\": \"EST\",\n",
      "        \"notes\": \"Don't forget to bring a hat!\",\n",
      "        \"created_at\": \"2025-09-13T19:28:02.007516+00:00\",\n",
      "        \"updated_at\": \"2025-09-13T19:28:02.007516+00:00\"\n",
      "    }\n",
      "]\n"
     ]
    }
   ],
   "source": [
    "trip_id = \"0337a104-51b5-4106-80d9-ffabd3f643d1\"\n",
    "updates = {\n",
    "    \"title\": \"Updated Summer Vacation\",\n",
    "    \"description\": \"An updated description for the summer trip.\",\n",
    "    \"notes\": \"Don't forget to bring a hat!\"\n",
    "}\n",
    "\n",
    "# Send a PATCH request to update the trip\n",
    "res = requests.patch(\n",
    "    f\"{BASE_URL}/trips/{trip_id}\",\n",
    "    headers={\n",
    "        \"Authorization\": f\"Bearer {access_token}\",\n",
    "        \"Content-Type\": \"application/json\"\n",
    "    },\n",
    "    json=updates  # Send the updates as the request body\n",
    ")\n",
    "\n",
    "# Print the response status and body\n",
    "print(\"Response Status:\", res.status_code)\n",
    "print(\"Response Body:\\n\", json.dumps(res.json(), indent=4))"
   ]
  },
  {
   "cell_type": "code",
   "execution_count": 35,
   "id": "640bf5d0",
   "metadata": {},
   "outputs": [
    {
     "name": "stdout",
     "output_type": "stream",
     "text": [
      "Response Status: 200\n",
      "Response Body:\n",
      " [\n",
      "    {\n",
      "        \"id\": \"dc621d9c-6ead-43e1-830f-15b87cd071fa\",\n",
      "        \"trip_id\": \"0337a104-51b5-4106-80d9-ffabd3f643d1\",\n",
      "        \"type\": \"lodging\",\n",
      "        \"name\": \"Marlon Hotel\",\n",
      "        \"link\": \"https://marltonhotel.com/\",\n",
      "        \"cost_amount\": 100.0,\n",
      "        \"cost_currency\": \"100 USD\",\n",
      "        \"start_time\": \"2025-09-14T13:50:25+00:00\",\n",
      "        \"end_time\": \"2025-09-20T13:50:25+00:00\",\n",
      "        \"all_day\": true,\n",
      "        \"status\": \"planned\",\n",
      "        \"notes\": \"great hotel, very central\",\n",
      "        \"created_at\": \"2025-09-14T13:44:53.840083+00:00\",\n",
      "        \"updated_at\": \"2025-09-14T13:44:53.840083+00:00\"\n",
      "    }\n",
      "]\n"
     ]
    }
   ],
   "source": [
    "trip_id = \"0337a104-51b5-4106-80d9-ffabd3f643d1\"\n",
    "new_iti = {\n",
    "    \"type\": \"lodging\",\n",
    "    \"name\": \"Marlon Hotel\",\n",
    "    \"link\": \"https://marltonhotel.com/\",\n",
    "    \"cost_amount\": \"100.00\",\n",
    "    \"cost_currency\": \"100 USD\",\n",
    "    \"start_time\": \"2025-09-14T13:50:25+00:00\",\n",
    "    \"end_time\": \"2025-09-20T13:50:25+00:00\",\n",
    "    \"all_day\": True,\n",
    "    \"status\": \"planned\",\n",
    "    \"notes\": \"great hotel, very central\"\n",
    "}\n",
    "\n",
    "# Send a PATCH request to update the trip\n",
    "res = requests.post(\n",
    "    f\"{BASE_URL}/trips/{trip_id}/items\",\n",
    "    headers={\n",
    "        \"Authorization\": f\"Bearer {access_token}\",\n",
    "        \"Content-Type\": \"application/json\"\n",
    "    },\n",
    "    json=new_iti  # Send the updates as the request body\n",
    ")\n",
    "\n",
    "# Print the response status and body\n",
    "print(\"Response Status:\", res.status_code)\n",
    "print(\"Response Body:\\n\", json.dumps(res.json(), indent=4))"
   ]
  },
  {
   "cell_type": "code",
   "execution_count": 40,
   "id": "a0f08e58",
   "metadata": {},
   "outputs": [
    {
     "name": "stdout",
     "output_type": "stream",
     "text": [
      "Response Status: 200\n",
      "Response Body:\n",
      " [\n",
      "    {\n",
      "        \"id\": \"dc621d9c-6ead-43e1-830f-15b87cd071fa\",\n",
      "        \"trip_id\": \"0337a104-51b5-4106-80d9-ffabd3f643d1\",\n",
      "        \"type\": \"lodging\",\n",
      "        \"name\": \"Marlon Hotel\",\n",
      "        \"link\": \"https://marltonhotel.com/\",\n",
      "        \"cost_amount\": 100.0,\n",
      "        \"cost_currency\": \"100 USD\",\n",
      "        \"start_time\": \"2025-09-14T13:50:25+00:00\",\n",
      "        \"end_time\": \"2025-09-20T13:50:25+00:00\",\n",
      "        \"all_day\": true,\n",
      "        \"status\": \"planned\",\n",
      "        \"notes\": \"great hotel, very central\",\n",
      "        \"created_at\": \"2025-09-14T13:44:53.840083+00:00\",\n",
      "        \"updated_at\": \"2025-09-14T13:44:53.840083+00:00\"\n",
      "    }\n",
      "]\n"
     ]
    }
   ],
   "source": [
    "trip_id = \"0337a104-51b5-4106-80d9-ffabd3f643d1\"\n",
    "\n",
    "# Send a PATCH request to update the trip\n",
    "res = requests.get(\n",
    "    f\"{BASE_URL}/trips/{trip_id}/itinerary\",\n",
    "    headers={\n",
    "        \"Authorization\": f\"Bearer {access_token}\",\n",
    "        \"Content-Type\": \"application/json\"\n",
    "    }\n",
    ")\n",
    "\n",
    "# Print the response status and body\n",
    "print(\"Response Status:\", res.status_code)\n",
    "print(\"Response Body:\\n\", json.dumps(res.json(), indent=4))"
   ]
  }
 ],
 "metadata": {
  "kernelspec": {
   "display_name": "Python 3",
   "language": "python",
   "name": "python3"
  },
  "language_info": {
   "codemirror_mode": {
    "name": "ipython",
    "version": 3
   },
   "file_extension": ".py",
   "mimetype": "text/x-python",
   "name": "python",
   "nbconvert_exporter": "python",
   "pygments_lexer": "ipython3",
   "version": "3.9.6"
  }
 },
 "nbformat": 4,
 "nbformat_minor": 5
}
